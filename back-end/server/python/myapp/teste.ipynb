{
 "cells": [
  {
   "cell_type": "code",
   "execution_count": 3,
   "metadata": {},
   "outputs": [
    {
     "ename": "TypeError",
     "evalue": "string indices must be integers, not 'str'",
     "output_type": "error",
     "traceback": [
      "\u001b[1;31m---------------------------------------------------------------------------\u001b[0m",
      "\u001b[1;31mTypeError\u001b[0m                                 Traceback (most recent call last)",
      "Cell \u001b[1;32mIn[3], line 21\u001b[0m\n\u001b[0;32m     13\u001b[0m campos_data \u001b[39m=\u001b[39m {\n\u001b[0;32m     14\u001b[0m     \u001b[39m\"\u001b[39m\u001b[39mdata\u001b[39m\u001b[39m\"\u001b[39m : {\n\u001b[0;32m     15\u001b[0m         \u001b[39m\"\u001b[39m\u001b[39mData\u001b[39m\u001b[39m\"\u001b[39m : \u001b[39m\"\u001b[39m\u001b[39mdata\u001b[39m\u001b[39m\"\u001b[39m\n\u001b[0;32m     16\u001b[0m     }\n\u001b[0;32m     17\u001b[0m }\n\u001b[0;32m     19\u001b[0m \u001b[39m# print(\"\\ncampos_data: \", campos_data)\u001b[39;00m\n\u001b[1;32m---> 21\u001b[0m expected_data_types \u001b[39m=\u001b[39m {col[\u001b[39m'\u001b[39;49m\u001b[39mnome\u001b[39;49m\u001b[39m'\u001b[39;49m]: col[\u001b[39m'\u001b[39;49m\u001b[39mtipo\u001b[39;49m\u001b[39m'\u001b[39;49m] \u001b[39mfor\u001b[39;49;00m col \u001b[39min\u001b[39;49;00m campos_data[\u001b[39m'\u001b[39;49m\u001b[39mdata\u001b[39;49m\u001b[39m'\u001b[39;49m]}\n\u001b[0;32m     22\u001b[0m \u001b[39m# print(\"expected: \", expected_data_types)\u001b[39;00m\n\u001b[0;32m     24\u001b[0m \u001b[39mfor\u001b[39;00m col_name, expected_dtype \u001b[39min\u001b[39;00m expected_data_types\u001b[39m.\u001b[39mitems():\n",
      "Cell \u001b[1;32mIn[3], line 21\u001b[0m, in \u001b[0;36m<dictcomp>\u001b[1;34m(.0)\u001b[0m\n\u001b[0;32m     13\u001b[0m campos_data \u001b[39m=\u001b[39m {\n\u001b[0;32m     14\u001b[0m     \u001b[39m\"\u001b[39m\u001b[39mdata\u001b[39m\u001b[39m\"\u001b[39m : {\n\u001b[0;32m     15\u001b[0m         \u001b[39m\"\u001b[39m\u001b[39mData\u001b[39m\u001b[39m\"\u001b[39m : \u001b[39m\"\u001b[39m\u001b[39mdata\u001b[39m\u001b[39m\"\u001b[39m\n\u001b[0;32m     16\u001b[0m     }\n\u001b[0;32m     17\u001b[0m }\n\u001b[0;32m     19\u001b[0m \u001b[39m# print(\"\\ncampos_data: \", campos_data)\u001b[39;00m\n\u001b[1;32m---> 21\u001b[0m expected_data_types \u001b[39m=\u001b[39m {col[\u001b[39m'\u001b[39;49m\u001b[39mnome\u001b[39;49m\u001b[39m'\u001b[39;49m]: col[\u001b[39m'\u001b[39m\u001b[39mtipo\u001b[39m\u001b[39m'\u001b[39m] \u001b[39mfor\u001b[39;00m col \u001b[39min\u001b[39;00m campos_data[\u001b[39m'\u001b[39m\u001b[39mdata\u001b[39m\u001b[39m'\u001b[39m]}\n\u001b[0;32m     22\u001b[0m \u001b[39m# print(\"expected: \", expected_data_types)\u001b[39;00m\n\u001b[0;32m     24\u001b[0m \u001b[39mfor\u001b[39;00m col_name, expected_dtype \u001b[39min\u001b[39;00m expected_data_types\u001b[39m.\u001b[39mitems():\n",
      "\u001b[1;31mTypeError\u001b[0m: string indices must be integers, not 'str'"
     ]
    }
   ],
   "source": [
    "import pandas as pd\n",
    "\n",
    "df = pd.read_csv(\"Aniversarios jan.csv\")\n",
    "\n",
    "tipo_dado_mapping = {\n",
    "    'texto': 'object',\n",
    "    'inteiro': 'int64',\n",
    "    'decimal': 'float64',\n",
    "    'booleano': 'bool',\n",
    "    'data': 'datetime64[ns]'\n",
    "}\n",
    "\n",
    "campos_data = {\n",
    "    \"data\" : {\n",
    "        \"Data\" : \"data\"\n",
    "    }\n",
    "}\n",
    "    \n",
    "# print(\"\\ncampos_data: \", campos_data)\n",
    "\n",
    "expected_data_types = {col['nome']: col['tipo'] for col in campos_data['data']}\n",
    "# print(\"expected: \", expected_data_types)\n",
    "\n",
    "for col_name, expected_dtype in expected_data_types.items():\n",
    "    if col_name in df.columns:\n",
    "        mapped_dtype = tipo_dado_mapping.get(expected_dtype, 'object')\n",
    "        print(\"aqui: \",df[col_name].dtype.name, mapped_dtype)\n",
    "        if mapped_dtype == \"datetime64[ns]\":\n",
    "            print(pd.to_datetime(df[col_name], errors='coerce'))\n",
    "            \n",
    "        if df[col_name].dtype.name != mapped_dtype:\n",
    "            print( {'message': f'O tipo de dados da coluna {col_name.upper()} do arquivo não corresponde ao tipo de dados no template ({expected_dtype}) do template'}, 400)\n",
    "        df[col_name] = df[col_name].astype(mapped_dtype)"
   ]
  }
 ],
 "metadata": {
  "kernelspec": {
   "display_name": "Python 3",
   "language": "python",
   "name": "python3"
  },
  "language_info": {
   "codemirror_mode": {
    "name": "ipython",
    "version": 3
   },
   "file_extension": ".py",
   "mimetype": "text/x-python",
   "name": "python",
   "nbconvert_exporter": "python",
   "pygments_lexer": "ipython3",
   "version": "3.11.6"
  },
  "orig_nbformat": 4
 },
 "nbformat": 4,
 "nbformat_minor": 2
}
